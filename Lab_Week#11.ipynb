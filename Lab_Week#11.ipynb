{
  "nbformat": 4,
  "nbformat_minor": 0,
  "metadata": {
    "colab": {
      "provenance": [],
      "include_colab_link": true
    },
    "kernelspec": {
      "name": "python3",
      "display_name": "Python 3"
    },
    "language_info": {
      "name": "python"
    }
  },
  "cells": [
    {
      "cell_type": "markdown",
      "metadata": {
        "id": "view-in-github",
        "colab_type": "text"
      },
      "source": [
        "<a href=\"https://colab.research.google.com/github/pedrofigueroaalbano/IS-4487/blob/main/Lab_Week%2311.ipynb\" target=\"_parent\"><img src=\"https://colab.research.google.com/assets/colab-badge.svg\" alt=\"Open In Colab\"/></a>"
      ]
    },
    {
      "cell_type": "markdown",
      "metadata": {
        "id": "p_Yu45OYdj3Y"
      },
      "source": [
        "# IS 4487 Module 5 Script\n",
        "\n",
        "## Objectives\n",
        "\n",
        "a. Understand model accuracy.  Why is it a performance metric for classification and not regression?\n",
        "    \n",
        "b. Calculate accuracy for a simple majority class model (this is the same as calculating the proportion of the majority class in a binary variable). Consider: x <- c(1, 1, 1, 0, 0).  What is the majority class? What is the proportion of the majority class in x?\n",
        "    \n",
        "c. Fit a tree model of the target with just one predictor variable and calculate the accuracy of this model.\n",
        "    \n",
        "d. Interpret a tree model, and calculate information gain.\n",
        "    \n",
        "e. Fit a tree model of the target using all the predictors, then:  create a visualization of the tree and identify the top 3 most important predictors in this model.\n",
        "    \n",
        "f. How do these models compare to majority class prediction?\n",
        "    \n",
        "g. How will you use a classification model as part of a solution to the AdviseInvest case?\n",
        "\n",
        "We will use the MegaTelCo data for this demonstration."
      ]
    },
    {
      "cell_type": "markdown",
      "metadata": {
        "id": "UE93RwXhgiJS"
      },
      "source": [
        "##Load Libraries\n",
        "\n",
        "In this class we will be using \n",
        "- Pandas\n",
        "- Scikitlearn\n",
        "- Matplotlib\n"
      ]
    },
    {
      "cell_type": "code",
      "metadata": {
        "id": "JYRZY5n0gfNe"
      },
      "source": [
        "import pandas as pd\n",
        "import matplotlib as mpl\n",
        "import numpy as np\n",
        "import seaborn as sns\n",
        "\n",
        "from sklearn.tree import DecisionTreeClassifier, export_graphviz # Import Decision Tree Classifier\n",
        "from sklearn.model_selection import train_test_split # Import train_test_split function\n",
        "from sklearn import metrics #Import scikit-learn metrics module for accuracy calculation\n",
        "from sklearn import tree\n"
      ],
      "execution_count": 101,
      "outputs": []
    },
    {
      "cell_type": "markdown",
      "metadata": {
        "id": "bREaXo8jfu-O"
      },
      "source": [
        "## Getting data into Pandas\n",
        "\n",
        "In this case we will load data from the statsmodels.org library\n",
        "\n",
        "See the Canvas assignments and lectures for a description of the Megatelco data\n",
        "\n",
        "**Note:** you will need to enter a code supplied by Google in the next step. \n"
      ]
    },
    {
      "cell_type": "code",
      "metadata": {
        "id": "6_FwprxVgR0e",
        "colab": {
          "base_uri": "https://localhost:8080/"
        },
        "outputId": "019f4dfe-4ae4-43b4-d7bc-5dfcff2a7717"
      },
      "source": [
        "from google.colab import drive \n",
        "drive.mount('/content/gdrive', force_remount=True)"
      ],
      "execution_count": 102,
      "outputs": [
        {
          "output_type": "stream",
          "name": "stdout",
          "text": [
            "Mounted at /content/gdrive\n"
          ]
        }
      ]
    },
    {
      "cell_type": "code",
      "source": [
        "df = pd.read_csv (r'/content/gdrive/MyDrive/Colab Notebooks/daily_aqi_by_county_2021.csv')"
      ],
      "metadata": {
        "id": "COsn5rMcW8PT"
      },
      "execution_count": 103,
      "outputs": []
    },
    {
      "cell_type": "code",
      "metadata": {
        "id": "gSvao0dlhlNn",
        "colab": {
          "base_uri": "https://localhost:8080/",
          "height": 407
        },
        "outputId": "6b8e1a49-35ee-4638-9dbd-fbd0b803131d"
      },
      "source": [
        "#look at the top rows\n",
        "df.head(10) "
      ],
      "execution_count": 104,
      "outputs": [
        {
          "output_type": "execute_result",
          "data": {
            "text/plain": [
              "  State Name county Name  State Code  County Code        Date  AQI  Category  \\\n",
              "0    Alabama     Baldwin           1            3  2021-01-01   27      Good   \n",
              "1    Alabama     Baldwin           1            3  2021-01-04   47      Good   \n",
              "2    Alabama     Baldwin           1            3  2021-01-07   24      Good   \n",
              "3    Alabama     Baldwin           1            3  2021-01-10   39      Good   \n",
              "4    Alabama     Baldwin           1            3  2021-01-13   46      Good   \n",
              "5    Alabama     Baldwin           1            3  2021-01-16   21      Good   \n",
              "6    Alabama     Baldwin           1            3  2021-01-19   52  Moderate   \n",
              "7    Alabama     Baldwin           1            3  2021-01-22   11      Good   \n",
              "8    Alabama     Baldwin           1            3  2021-01-25   39      Good   \n",
              "9    Alabama     Baldwin           1            3  2021-01-28   22      Good   \n",
              "\n",
              "  Defining Parameter Defining Site  Number of Sites Reporting  \n",
              "0              PM2.5   01-003-0010                          1  \n",
              "1              PM2.5   01-003-0010                          1  \n",
              "2              PM2.5   01-003-0010                          1  \n",
              "3              PM2.5   01-003-0010                          1  \n",
              "4              PM2.5   01-003-0010                          1  \n",
              "5              PM2.5   01-003-0010                          1  \n",
              "6              PM2.5   01-003-0010                          1  \n",
              "7              PM2.5   01-003-0010                          1  \n",
              "8              PM2.5   01-003-0010                          1  \n",
              "9              PM2.5   01-003-0010                          1  "
            ],
            "text/html": [
              "\n",
              "  <div id=\"df-71a04a0c-8b0c-4bf8-bee7-88f7dbf28cbe\">\n",
              "    <div class=\"colab-df-container\">\n",
              "      <div>\n",
              "<style scoped>\n",
              "    .dataframe tbody tr th:only-of-type {\n",
              "        vertical-align: middle;\n",
              "    }\n",
              "\n",
              "    .dataframe tbody tr th {\n",
              "        vertical-align: top;\n",
              "    }\n",
              "\n",
              "    .dataframe thead th {\n",
              "        text-align: right;\n",
              "    }\n",
              "</style>\n",
              "<table border=\"1\" class=\"dataframe\">\n",
              "  <thead>\n",
              "    <tr style=\"text-align: right;\">\n",
              "      <th></th>\n",
              "      <th>State Name</th>\n",
              "      <th>county Name</th>\n",
              "      <th>State Code</th>\n",
              "      <th>County Code</th>\n",
              "      <th>Date</th>\n",
              "      <th>AQI</th>\n",
              "      <th>Category</th>\n",
              "      <th>Defining Parameter</th>\n",
              "      <th>Defining Site</th>\n",
              "      <th>Number of Sites Reporting</th>\n",
              "    </tr>\n",
              "  </thead>\n",
              "  <tbody>\n",
              "    <tr>\n",
              "      <th>0</th>\n",
              "      <td>Alabama</td>\n",
              "      <td>Baldwin</td>\n",
              "      <td>1</td>\n",
              "      <td>3</td>\n",
              "      <td>2021-01-01</td>\n",
              "      <td>27</td>\n",
              "      <td>Good</td>\n",
              "      <td>PM2.5</td>\n",
              "      <td>01-003-0010</td>\n",
              "      <td>1</td>\n",
              "    </tr>\n",
              "    <tr>\n",
              "      <th>1</th>\n",
              "      <td>Alabama</td>\n",
              "      <td>Baldwin</td>\n",
              "      <td>1</td>\n",
              "      <td>3</td>\n",
              "      <td>2021-01-04</td>\n",
              "      <td>47</td>\n",
              "      <td>Good</td>\n",
              "      <td>PM2.5</td>\n",
              "      <td>01-003-0010</td>\n",
              "      <td>1</td>\n",
              "    </tr>\n",
              "    <tr>\n",
              "      <th>2</th>\n",
              "      <td>Alabama</td>\n",
              "      <td>Baldwin</td>\n",
              "      <td>1</td>\n",
              "      <td>3</td>\n",
              "      <td>2021-01-07</td>\n",
              "      <td>24</td>\n",
              "      <td>Good</td>\n",
              "      <td>PM2.5</td>\n",
              "      <td>01-003-0010</td>\n",
              "      <td>1</td>\n",
              "    </tr>\n",
              "    <tr>\n",
              "      <th>3</th>\n",
              "      <td>Alabama</td>\n",
              "      <td>Baldwin</td>\n",
              "      <td>1</td>\n",
              "      <td>3</td>\n",
              "      <td>2021-01-10</td>\n",
              "      <td>39</td>\n",
              "      <td>Good</td>\n",
              "      <td>PM2.5</td>\n",
              "      <td>01-003-0010</td>\n",
              "      <td>1</td>\n",
              "    </tr>\n",
              "    <tr>\n",
              "      <th>4</th>\n",
              "      <td>Alabama</td>\n",
              "      <td>Baldwin</td>\n",
              "      <td>1</td>\n",
              "      <td>3</td>\n",
              "      <td>2021-01-13</td>\n",
              "      <td>46</td>\n",
              "      <td>Good</td>\n",
              "      <td>PM2.5</td>\n",
              "      <td>01-003-0010</td>\n",
              "      <td>1</td>\n",
              "    </tr>\n",
              "    <tr>\n",
              "      <th>5</th>\n",
              "      <td>Alabama</td>\n",
              "      <td>Baldwin</td>\n",
              "      <td>1</td>\n",
              "      <td>3</td>\n",
              "      <td>2021-01-16</td>\n",
              "      <td>21</td>\n",
              "      <td>Good</td>\n",
              "      <td>PM2.5</td>\n",
              "      <td>01-003-0010</td>\n",
              "      <td>1</td>\n",
              "    </tr>\n",
              "    <tr>\n",
              "      <th>6</th>\n",
              "      <td>Alabama</td>\n",
              "      <td>Baldwin</td>\n",
              "      <td>1</td>\n",
              "      <td>3</td>\n",
              "      <td>2021-01-19</td>\n",
              "      <td>52</td>\n",
              "      <td>Moderate</td>\n",
              "      <td>PM2.5</td>\n",
              "      <td>01-003-0010</td>\n",
              "      <td>1</td>\n",
              "    </tr>\n",
              "    <tr>\n",
              "      <th>7</th>\n",
              "      <td>Alabama</td>\n",
              "      <td>Baldwin</td>\n",
              "      <td>1</td>\n",
              "      <td>3</td>\n",
              "      <td>2021-01-22</td>\n",
              "      <td>11</td>\n",
              "      <td>Good</td>\n",
              "      <td>PM2.5</td>\n",
              "      <td>01-003-0010</td>\n",
              "      <td>1</td>\n",
              "    </tr>\n",
              "    <tr>\n",
              "      <th>8</th>\n",
              "      <td>Alabama</td>\n",
              "      <td>Baldwin</td>\n",
              "      <td>1</td>\n",
              "      <td>3</td>\n",
              "      <td>2021-01-25</td>\n",
              "      <td>39</td>\n",
              "      <td>Good</td>\n",
              "      <td>PM2.5</td>\n",
              "      <td>01-003-0010</td>\n",
              "      <td>1</td>\n",
              "    </tr>\n",
              "    <tr>\n",
              "      <th>9</th>\n",
              "      <td>Alabama</td>\n",
              "      <td>Baldwin</td>\n",
              "      <td>1</td>\n",
              "      <td>3</td>\n",
              "      <td>2021-01-28</td>\n",
              "      <td>22</td>\n",
              "      <td>Good</td>\n",
              "      <td>PM2.5</td>\n",
              "      <td>01-003-0010</td>\n",
              "      <td>1</td>\n",
              "    </tr>\n",
              "  </tbody>\n",
              "</table>\n",
              "</div>\n",
              "      <button class=\"colab-df-convert\" onclick=\"convertToInteractive('df-71a04a0c-8b0c-4bf8-bee7-88f7dbf28cbe')\"\n",
              "              title=\"Convert this dataframe to an interactive table.\"\n",
              "              style=\"display:none;\">\n",
              "        \n",
              "  <svg xmlns=\"http://www.w3.org/2000/svg\" height=\"24px\"viewBox=\"0 0 24 24\"\n",
              "       width=\"24px\">\n",
              "    <path d=\"M0 0h24v24H0V0z\" fill=\"none\"/>\n",
              "    <path d=\"M18.56 5.44l.94 2.06.94-2.06 2.06-.94-2.06-.94-.94-2.06-.94 2.06-2.06.94zm-11 1L8.5 8.5l.94-2.06 2.06-.94-2.06-.94L8.5 2.5l-.94 2.06-2.06.94zm10 10l.94 2.06.94-2.06 2.06-.94-2.06-.94-.94-2.06-.94 2.06-2.06.94z\"/><path d=\"M17.41 7.96l-1.37-1.37c-.4-.4-.92-.59-1.43-.59-.52 0-1.04.2-1.43.59L10.3 9.45l-7.72 7.72c-.78.78-.78 2.05 0 2.83L4 21.41c.39.39.9.59 1.41.59.51 0 1.02-.2 1.41-.59l7.78-7.78 2.81-2.81c.8-.78.8-2.07 0-2.86zM5.41 20L4 18.59l7.72-7.72 1.47 1.35L5.41 20z\"/>\n",
              "  </svg>\n",
              "      </button>\n",
              "      \n",
              "  <style>\n",
              "    .colab-df-container {\n",
              "      display:flex;\n",
              "      flex-wrap:wrap;\n",
              "      gap: 12px;\n",
              "    }\n",
              "\n",
              "    .colab-df-convert {\n",
              "      background-color: #E8F0FE;\n",
              "      border: none;\n",
              "      border-radius: 50%;\n",
              "      cursor: pointer;\n",
              "      display: none;\n",
              "      fill: #1967D2;\n",
              "      height: 32px;\n",
              "      padding: 0 0 0 0;\n",
              "      width: 32px;\n",
              "    }\n",
              "\n",
              "    .colab-df-convert:hover {\n",
              "      background-color: #E2EBFA;\n",
              "      box-shadow: 0px 1px 2px rgba(60, 64, 67, 0.3), 0px 1px 3px 1px rgba(60, 64, 67, 0.15);\n",
              "      fill: #174EA6;\n",
              "    }\n",
              "\n",
              "    [theme=dark] .colab-df-convert {\n",
              "      background-color: #3B4455;\n",
              "      fill: #D2E3FC;\n",
              "    }\n",
              "\n",
              "    [theme=dark] .colab-df-convert:hover {\n",
              "      background-color: #434B5C;\n",
              "      box-shadow: 0px 1px 3px 1px rgba(0, 0, 0, 0.15);\n",
              "      filter: drop-shadow(0px 1px 2px rgba(0, 0, 0, 0.3));\n",
              "      fill: #FFFFFF;\n",
              "    }\n",
              "  </style>\n",
              "\n",
              "      <script>\n",
              "        const buttonEl =\n",
              "          document.querySelector('#df-71a04a0c-8b0c-4bf8-bee7-88f7dbf28cbe button.colab-df-convert');\n",
              "        buttonEl.style.display =\n",
              "          google.colab.kernel.accessAllowed ? 'block' : 'none';\n",
              "\n",
              "        async function convertToInteractive(key) {\n",
              "          const element = document.querySelector('#df-71a04a0c-8b0c-4bf8-bee7-88f7dbf28cbe');\n",
              "          const dataTable =\n",
              "            await google.colab.kernel.invokeFunction('convertToInteractive',\n",
              "                                                     [key], {});\n",
              "          if (!dataTable) return;\n",
              "\n",
              "          const docLinkHtml = 'Like what you see? Visit the ' +\n",
              "            '<a target=\"_blank\" href=https://colab.research.google.com/notebooks/data_table.ipynb>data table notebook</a>'\n",
              "            + ' to learn more about interactive tables.';\n",
              "          element.innerHTML = '';\n",
              "          dataTable['output_type'] = 'display_data';\n",
              "          await google.colab.output.renderOutput(dataTable, element);\n",
              "          const docLink = document.createElement('div');\n",
              "          docLink.innerHTML = docLinkHtml;\n",
              "          element.appendChild(docLink);\n",
              "        }\n",
              "      </script>\n",
              "    </div>\n",
              "  </div>\n",
              "  "
            ]
          },
          "metadata": {},
          "execution_count": 104
        }
      ]
    },
    {
      "cell_type": "code",
      "metadata": {
        "id": "AK7y336xJ3-6",
        "colab": {
          "base_uri": "https://localhost:8080/"
        },
        "outputId": "009909fd-30a5-4007-9ee4-2f0b79b50d1c"
      },
      "source": [
        "#look at the datatypes\n",
        "df.info()"
      ],
      "execution_count": 105,
      "outputs": [
        {
          "output_type": "stream",
          "name": "stdout",
          "text": [
            "<class 'pandas.core.frame.DataFrame'>\n",
            "RangeIndex: 218196 entries, 0 to 218195\n",
            "Data columns (total 10 columns):\n",
            " #   Column                     Non-Null Count   Dtype \n",
            "---  ------                     --------------   ----- \n",
            " 0   State Name                 218196 non-null  object\n",
            " 1   county Name                218196 non-null  object\n",
            " 2   State Code                 218196 non-null  int64 \n",
            " 3   County Code                218196 non-null  int64 \n",
            " 4   Date                       218196 non-null  object\n",
            " 5   AQI                        218196 non-null  int64 \n",
            " 6   Category                   218196 non-null  object\n",
            " 7   Defining Parameter         218196 non-null  object\n",
            " 8   Defining Site              218196 non-null  object\n",
            " 9   Number of Sites Reporting  218196 non-null  int64 \n",
            "dtypes: int64(4), object(6)\n",
            "memory usage: 16.6+ MB\n"
          ]
        }
      ]
    },
    {
      "cell_type": "code",
      "metadata": {
        "id": "udYgkb6I3SJo",
        "colab": {
          "base_uri": "https://localhost:8080/",
          "height": 300
        },
        "outputId": "8cb0fbc7-ea06-4549-90e1-8fd8647b4ca4"
      },
      "source": [
        "#describe the data before cleaning it\n",
        "df.describe()"
      ],
      "execution_count": 106,
      "outputs": [
        {
          "output_type": "execute_result",
          "data": {
            "text/plain": [
              "          State Code    County Code            AQI  Number of Sites Reporting\n",
              "count  218196.000000  218196.000000  218196.000000              218196.000000\n",
              "mean       30.178390      82.098265      39.584250                   1.924220\n",
              "std        15.755914      89.555906      21.547055                   2.251967\n",
              "min         1.000000       1.000000       0.000000                   1.000000\n",
              "25%        18.000000      25.000000      29.000000                   1.000000\n",
              "50%        30.000000      61.000000      38.000000                   1.000000\n",
              "75%        42.000000     111.000000      47.000000                   2.000000\n",
              "max        80.000000     810.000000    2723.000000                  34.000000"
            ],
            "text/html": [
              "\n",
              "  <div id=\"df-b004048f-79f9-45af-99ed-42783cbb951e\">\n",
              "    <div class=\"colab-df-container\">\n",
              "      <div>\n",
              "<style scoped>\n",
              "    .dataframe tbody tr th:only-of-type {\n",
              "        vertical-align: middle;\n",
              "    }\n",
              "\n",
              "    .dataframe tbody tr th {\n",
              "        vertical-align: top;\n",
              "    }\n",
              "\n",
              "    .dataframe thead th {\n",
              "        text-align: right;\n",
              "    }\n",
              "</style>\n",
              "<table border=\"1\" class=\"dataframe\">\n",
              "  <thead>\n",
              "    <tr style=\"text-align: right;\">\n",
              "      <th></th>\n",
              "      <th>State Code</th>\n",
              "      <th>County Code</th>\n",
              "      <th>AQI</th>\n",
              "      <th>Number of Sites Reporting</th>\n",
              "    </tr>\n",
              "  </thead>\n",
              "  <tbody>\n",
              "    <tr>\n",
              "      <th>count</th>\n",
              "      <td>218196.000000</td>\n",
              "      <td>218196.000000</td>\n",
              "      <td>218196.000000</td>\n",
              "      <td>218196.000000</td>\n",
              "    </tr>\n",
              "    <tr>\n",
              "      <th>mean</th>\n",
              "      <td>30.178390</td>\n",
              "      <td>82.098265</td>\n",
              "      <td>39.584250</td>\n",
              "      <td>1.924220</td>\n",
              "    </tr>\n",
              "    <tr>\n",
              "      <th>std</th>\n",
              "      <td>15.755914</td>\n",
              "      <td>89.555906</td>\n",
              "      <td>21.547055</td>\n",
              "      <td>2.251967</td>\n",
              "    </tr>\n",
              "    <tr>\n",
              "      <th>min</th>\n",
              "      <td>1.000000</td>\n",
              "      <td>1.000000</td>\n",
              "      <td>0.000000</td>\n",
              "      <td>1.000000</td>\n",
              "    </tr>\n",
              "    <tr>\n",
              "      <th>25%</th>\n",
              "      <td>18.000000</td>\n",
              "      <td>25.000000</td>\n",
              "      <td>29.000000</td>\n",
              "      <td>1.000000</td>\n",
              "    </tr>\n",
              "    <tr>\n",
              "      <th>50%</th>\n",
              "      <td>30.000000</td>\n",
              "      <td>61.000000</td>\n",
              "      <td>38.000000</td>\n",
              "      <td>1.000000</td>\n",
              "    </tr>\n",
              "    <tr>\n",
              "      <th>75%</th>\n",
              "      <td>42.000000</td>\n",
              "      <td>111.000000</td>\n",
              "      <td>47.000000</td>\n",
              "      <td>2.000000</td>\n",
              "    </tr>\n",
              "    <tr>\n",
              "      <th>max</th>\n",
              "      <td>80.000000</td>\n",
              "      <td>810.000000</td>\n",
              "      <td>2723.000000</td>\n",
              "      <td>34.000000</td>\n",
              "    </tr>\n",
              "  </tbody>\n",
              "</table>\n",
              "</div>\n",
              "      <button class=\"colab-df-convert\" onclick=\"convertToInteractive('df-b004048f-79f9-45af-99ed-42783cbb951e')\"\n",
              "              title=\"Convert this dataframe to an interactive table.\"\n",
              "              style=\"display:none;\">\n",
              "        \n",
              "  <svg xmlns=\"http://www.w3.org/2000/svg\" height=\"24px\"viewBox=\"0 0 24 24\"\n",
              "       width=\"24px\">\n",
              "    <path d=\"M0 0h24v24H0V0z\" fill=\"none\"/>\n",
              "    <path d=\"M18.56 5.44l.94 2.06.94-2.06 2.06-.94-2.06-.94-.94-2.06-.94 2.06-2.06.94zm-11 1L8.5 8.5l.94-2.06 2.06-.94-2.06-.94L8.5 2.5l-.94 2.06-2.06.94zm10 10l.94 2.06.94-2.06 2.06-.94-2.06-.94-.94-2.06-.94 2.06-2.06.94z\"/><path d=\"M17.41 7.96l-1.37-1.37c-.4-.4-.92-.59-1.43-.59-.52 0-1.04.2-1.43.59L10.3 9.45l-7.72 7.72c-.78.78-.78 2.05 0 2.83L4 21.41c.39.39.9.59 1.41.59.51 0 1.02-.2 1.41-.59l7.78-7.78 2.81-2.81c.8-.78.8-2.07 0-2.86zM5.41 20L4 18.59l7.72-7.72 1.47 1.35L5.41 20z\"/>\n",
              "  </svg>\n",
              "      </button>\n",
              "      \n",
              "  <style>\n",
              "    .colab-df-container {\n",
              "      display:flex;\n",
              "      flex-wrap:wrap;\n",
              "      gap: 12px;\n",
              "    }\n",
              "\n",
              "    .colab-df-convert {\n",
              "      background-color: #E8F0FE;\n",
              "      border: none;\n",
              "      border-radius: 50%;\n",
              "      cursor: pointer;\n",
              "      display: none;\n",
              "      fill: #1967D2;\n",
              "      height: 32px;\n",
              "      padding: 0 0 0 0;\n",
              "      width: 32px;\n",
              "    }\n",
              "\n",
              "    .colab-df-convert:hover {\n",
              "      background-color: #E2EBFA;\n",
              "      box-shadow: 0px 1px 2px rgba(60, 64, 67, 0.3), 0px 1px 3px 1px rgba(60, 64, 67, 0.15);\n",
              "      fill: #174EA6;\n",
              "    }\n",
              "\n",
              "    [theme=dark] .colab-df-convert {\n",
              "      background-color: #3B4455;\n",
              "      fill: #D2E3FC;\n",
              "    }\n",
              "\n",
              "    [theme=dark] .colab-df-convert:hover {\n",
              "      background-color: #434B5C;\n",
              "      box-shadow: 0px 1px 3px 1px rgba(0, 0, 0, 0.15);\n",
              "      filter: drop-shadow(0px 1px 2px rgba(0, 0, 0, 0.3));\n",
              "      fill: #FFFFFF;\n",
              "    }\n",
              "  </style>\n",
              "\n",
              "      <script>\n",
              "        const buttonEl =\n",
              "          document.querySelector('#df-b004048f-79f9-45af-99ed-42783cbb951e button.colab-df-convert');\n",
              "        buttonEl.style.display =\n",
              "          google.colab.kernel.accessAllowed ? 'block' : 'none';\n",
              "\n",
              "        async function convertToInteractive(key) {\n",
              "          const element = document.querySelector('#df-b004048f-79f9-45af-99ed-42783cbb951e');\n",
              "          const dataTable =\n",
              "            await google.colab.kernel.invokeFunction('convertToInteractive',\n",
              "                                                     [key], {});\n",
              "          if (!dataTable) return;\n",
              "\n",
              "          const docLinkHtml = 'Like what you see? Visit the ' +\n",
              "            '<a target=\"_blank\" href=https://colab.research.google.com/notebooks/data_table.ipynb>data table notebook</a>'\n",
              "            + ' to learn more about interactive tables.';\n",
              "          element.innerHTML = '';\n",
              "          dataTable['output_type'] = 'display_data';\n",
              "          await google.colab.output.renderOutput(dataTable, element);\n",
              "          const docLink = document.createElement('div');\n",
              "          docLink.innerHTML = docLinkHtml;\n",
              "          element.appendChild(docLink);\n",
              "        }\n",
              "      </script>\n",
              "    </div>\n",
              "  </div>\n",
              "  "
            ]
          },
          "metadata": {},
          "execution_count": 106
        }
      ]
    },
    {
      "cell_type": "markdown",
      "metadata": {
        "id": "BtxOWvFlKzgE"
      },
      "source": [
        "## Clean up the data"
      ]
    },
    {
      "cell_type": "code",
      "metadata": {
        "id": "7KXLvMcBK8Za",
        "colab": {
          "base_uri": "https://localhost:8080/",
          "height": 265
        },
        "outputId": "6927b577-6e72-4364-dc2d-f2c3bfc6952a"
      },
      "source": [
        "mpl.pyplot.figure(figsize=(6,4))\n",
        "sns.boxplot(df['AQI'])\n",
        "mpl.pyplot.show()\n",
        "\n",
        "# There are a few big outliers over 1000."
      ],
      "execution_count": 107,
      "outputs": [
        {
          "output_type": "display_data",
          "data": {
            "text/plain": [
              "<Figure size 432x288 with 1 Axes>"
            ],
            "image/png": "[encoded data removed]"
          },
          "metadata": {
            "needs_background": "light"
          }
        }
      ]
    },
    {
      "cell_type": "code",
      "source": [
        "df_clean = df[(df['AQI'] < 1000)]"
      ],
      "metadata": {
        "id": "5uCtlp8Pmcoy"
      },
      "execution_count": 108,
      "outputs": []
    },
    {
      "cell_type": "code",
      "source": [
        "mpl.pyplot.figure(figsize=(6,4))\n",
        "sns.boxplot(df_clean['AQI'])\n",
        "mpl.pyplot.show()\n"
      ],
      "metadata": {
        "colab": {
          "base_uri": "https://localhost:8080/",
          "height": 265
        },
        "id": "cHLZ8jShmuXL",
        "outputId": "2b1c847e-2bd6-4a96-f73c-bbeb1bcd4f32"
      },
      "execution_count": 109,
      "outputs": [
        {
          "output_type": "display_data",
          "data": {
            "text/plain": [
              "<Figure size 432x288 with 1 Axes>"
            ],
            "image/png": "[encoded data removed]"
          },
          "metadata": {
            "needs_background": "light"
          }
        }
      ]
    },
    {
      "cell_type": "markdown",
      "metadata": {
        "id": "Zp7wGDqJ4iuL"
      },
      "source": [
        "# Standardize attributes\n",
        "\n",
        "- Convert Defining Parameter column to true or false columns\n"
      ]
    },
    {
      "cell_type": "code",
      "source": [
        "df_clean.loc[df_clean['Category'] == 'Good', 'Category'] = \"1\"\n",
        "df_clean.loc[df_clean['Category'] == 'Moderate', 'Category'] = \"2\"\n",
        "df_clean.loc[df_clean['Category'] == 'Unhealthy for Sensitive Groups', 'Category'] = \"3\" \n",
        "df_clean.loc[df_clean['Category'] == 'Unhealthy', 'Category'] = \"4\"\n",
        "df_clean.loc[df_clean['Category'] == 'Hazardous', 'Category'] = \"5\" \n",
        "df_clean.loc[df_clean['Category'] == 'Very Unhealthy', 'Category'] = \"6\""
      ],
      "metadata": {
        "id": "UyDzsevsz31d"
      },
      "execution_count": 110,
      "outputs": []
    },
    {
      "cell_type": "code",
      "source": [
        "#Get distinct values\n",
        "df_clean['Defining Parameter'].unique() "
      ],
      "metadata": {
        "id": "xNDR1xg5dVzm",
        "colab": {
          "base_uri": "https://localhost:8080/"
        },
        "outputId": "5dcfceb5-7c1a-45f0-ae34-b4f84b1fac44"
      },
      "execution_count": 111,
      "outputs": [
        {
          "output_type": "execute_result",
          "data": {
            "text/plain": [
              "array(['PM2.5', 'Ozone', 'PM10', 'NO2', 'CO', 'SO2'], dtype=object)"
            ]
          },
          "metadata": {},
          "execution_count": 111
        }
      ]
    },
    {
      "cell_type": "code",
      "source": [
        "df_clean.loc[df_clean['Defining Parameter'] == 'Ozone', 'Ozone'] = \"1\"\n",
        "df_clean.loc[df_clean['Defining Parameter'] == 'PM2.5', 'PM2.5'] = \"1\"\n",
        "df_clean.loc[df_clean['Defining Parameter'] == 'PM10', 'PM10'] = \"1\" \n",
        "df_clean.loc[df_clean['Defining Parameter'] == 'NO2', 'NO2'] = \"1\"\n",
        "df_clean.loc[df_clean['Defining Parameter'] == 'CO', 'CO'] = \"1\" \n",
        "df_clean.loc[df_clean['Defining Parameter'] == 'SO2', 'SO2'] = \"1\"\n",
        "\n",
        "df_clean.loc[df_clean['Ozone'].isnull(), 'Ozone'] = \"0\"\n",
        "df_clean.loc[df_clean['PM2.5'].isnull(), 'PM2.5'] = \"0\"\n",
        "df_clean.loc[df_clean['PM10'].isnull(), 'PM10'] = \"0\" \n",
        "df_clean.loc[df_clean['NO2'].isnull(), 'NO2'] = \"0\"\n",
        "df_clean.loc[df_clean['CO'].isnull(), 'CO'] = \"0\" \n",
        "df_clean.loc[df_clean['SO2'].isnull(), 'SO2'] = \"0\"\n",
        "df_clean.head(10) "
      ],
      "metadata": {
        "colab": {
          "base_uri": "https://localhost:8080/",
          "height": 1000
        },
        "id": "j_j-VMoLrKhB",
        "outputId": "f73c7d6f-fffb-4f76-8071-b211e872dc98"
      },
      "execution_count": 112,
      "outputs": [
        {
          "output_type": "stream",
          "name": "stderr",
          "text": [
            "<ipython-input-112-d99a84dc4dbc>:1: SettingWithCopyWarning: \n",
            "A value is trying to be set on a copy of a slice from a DataFrame.\n",
            "Try using .loc[row_indexer,col_indexer] = value instead\n",
            "\n",
            "See the caveats in the documentation: https://pandas.pydata.org/pandas-docs/stable/user_guide/indexing.html#returning-a-view-versus-a-copy\n",
            "  df_clean.loc[df_clean['Defining Parameter'] == 'Ozone', 'Ozone'] = \"1\"\n",
            "<ipython-input-112-d99a84dc4dbc>:2: SettingWithCopyWarning: \n",
            "A value is trying to be set on a copy of a slice from a DataFrame.\n",
            "Try using .loc[row_indexer,col_indexer] = value instead\n",
            "\n",
            "See the caveats in the documentation: https://pandas.pydata.org/pandas-docs/stable/user_guide/indexing.html#returning-a-view-versus-a-copy\n",
            "  df_clean.loc[df_clean['Defining Parameter'] == 'PM2.5', 'PM2.5'] = \"1\"\n",
            "<ipython-input-112-d99a84dc4dbc>:3: SettingWithCopyWarning: \n",
            "A value is trying to be set on a copy of a slice from a DataFrame.\n",
            "Try using .loc[row_indexer,col_indexer] = value instead\n",
            "\n",
            "See the caveats in the documentation: https://pandas.pydata.org/pandas-docs/stable/user_guide/indexing.html#returning-a-view-versus-a-copy\n",
            "  df_clean.loc[df_clean['Defining Parameter'] == 'PM10', 'PM10'] = \"1\"\n",
            "<ipython-input-112-d99a84dc4dbc>:4: SettingWithCopyWarning: \n",
            "A value is trying to be set on a copy of a slice from a DataFrame.\n",
            "Try using .loc[row_indexer,col_indexer] = value instead\n",
            "\n",
            "See the caveats in the documentation: https://pandas.pydata.org/pandas-docs/stable/user_guide/indexing.html#returning-a-view-versus-a-copy\n",
            "  df_clean.loc[df_clean['Defining Parameter'] == 'NO2', 'NO2'] = \"1\"\n",
            "<ipython-input-112-d99a84dc4dbc>:5: SettingWithCopyWarning: \n",
            "A value is trying to be set on a copy of a slice from a DataFrame.\n",
            "Try using .loc[row_indexer,col_indexer] = value instead\n",
            "\n",
            "See the caveats in the documentation: https://pandas.pydata.org/pandas-docs/stable/user_guide/indexing.html#returning-a-view-versus-a-copy\n",
            "  df_clean.loc[df_clean['Defining Parameter'] == 'CO', 'CO'] = \"1\"\n",
            "<ipython-input-112-d99a84dc4dbc>:6: SettingWithCopyWarning: \n",
            "A value is trying to be set on a copy of a slice from a DataFrame.\n",
            "Try using .loc[row_indexer,col_indexer] = value instead\n",
            "\n",
            "See the caveats in the documentation: https://pandas.pydata.org/pandas-docs/stable/user_guide/indexing.html#returning-a-view-versus-a-copy\n",
            "  df_clean.loc[df_clean['Defining Parameter'] == 'SO2', 'SO2'] = \"1\"\n"
          ]
        },
        {
          "output_type": "execute_result",
          "data": {
            "text/plain": [
              "  State Name county Name  State Code  County Code        Date  AQI Category  \\\n",
              "0    Alabama     Baldwin           1            3  2021-01-01   27        1   \n",
              "1    Alabama     Baldwin           1            3  2021-01-04   47        1   \n",
              "2    Alabama     Baldwin           1            3  2021-01-07   24        1   \n",
              "3    Alabama     Baldwin           1            3  2021-01-10   39        1   \n",
              "4    Alabama     Baldwin           1            3  2021-01-13   46        1   \n",
              "5    Alabama     Baldwin           1            3  2021-01-16   21        1   \n",
              "6    Alabama     Baldwin           1            3  2021-01-19   52        2   \n",
              "7    Alabama     Baldwin           1            3  2021-01-22   11        1   \n",
              "8    Alabama     Baldwin           1            3  2021-01-25   39        1   \n",
              "9    Alabama     Baldwin           1            3  2021-01-28   22        1   \n",
              "\n",
              "  Defining Parameter Defining Site  Number of Sites Reporting Ozone PM2.5  \\\n",
              "0              PM2.5   01-003-0010                          1     0     1   \n",
              "1              PM2.5   01-003-0010                          1     0     1   \n",
              "2              PM2.5   01-003-0010                          1     0     1   \n",
              "3              PM2.5   01-003-0010                          1     0     1   \n",
              "4              PM2.5   01-003-0010                          1     0     1   \n",
              "5              PM2.5   01-003-0010                          1     0     1   \n",
              "6              PM2.5   01-003-0010                          1     0     1   \n",
              "7              PM2.5   01-003-0010                          1     0     1   \n",
              "8              PM2.5   01-003-0010                          1     0     1   \n",
              "9              PM2.5   01-003-0010                          1     0     1   \n",
              "\n",
              "  PM10 NO2 CO SO2  \n",
              "0    0   0  0   0  \n",
              "1    0   0  0   0  \n",
              "2    0   0  0   0  \n",
              "3    0   0  0   0  \n",
              "4    0   0  0   0  \n",
              "5    0   0  0   0  \n",
              "6    0   0  0   0  \n",
              "7    0   0  0   0  \n",
              "8    0   0  0   0  \n",
              "9    0   0  0   0  "
            ],
            "text/html": [
              "\n",
              "  <div id=\"df-1a85e5ff-518d-4423-8eab-5dfe0d63dfbc\">\n",
              "    <div class=\"colab-df-container\">\n",
              "      <div>\n",
              "<style scoped>\n",
              "    .dataframe tbody tr th:only-of-type {\n",
              "        vertical-align: middle;\n",
              "    }\n",
              "\n",
              "    .dataframe tbody tr th {\n",
              "        vertical-align: top;\n",
              "    }\n",
              "\n",
              "    .dataframe thead th {\n",
              "        text-align: right;\n",
              "    }\n",
              "</style>\n",
              "<table border=\"1\" class=\"dataframe\">\n",
              "  <thead>\n",
              "    <tr style=\"text-align: right;\">\n",
              "      <th></th>\n",
              "      <th>State Name</th>\n",
              "      <th>county Name</th>\n",
              "      <th>State Code</th>\n",
              "      <th>County Code</th>\n",
              "      <th>Date</th>\n",
              "      <th>AQI</th>\n",
              "      <th>Category</th>\n",
              "      <th>Defining Parameter</th>\n",
              "      <th>Defining Site</th>\n",
              "      <th>Number of Sites Reporting</th>\n",
              "      <th>Ozone</th>\n",
              "      <th>PM2.5</th>\n",
              "      <th>PM10</th>\n",
              "      <th>NO2</th>\n",
              "      <th>CO</th>\n",
              "      <th>SO2</th>\n",
              "    </tr>\n",
              "  </thead>\n",
              "  <tbody>\n",
              "    <tr>\n",
              "      <th>0</th>\n",
              "      <td>Alabama</td>\n",
              "      <td>Baldwin</td>\n",
              "      <td>1</td>\n",
              "      <td>3</td>\n",
              "      <td>2021-01-01</td>\n",
              "      <td>27</td>\n",
              "      <td>1</td>\n",
              "      <td>PM2.5</td>\n",
              "      <td>01-003-0010</td>\n",
              "      <td>1</td>\n",
              "      <td>0</td>\n",
              "      <td>1</td>\n",
              "      <td>0</td>\n",
              "      <td>0</td>\n",
              "      <td>0</td>\n",
              "      <td>0</td>\n",
              "    </tr>\n",
              "    <tr>\n",
              "      <th>1</th>\n",
              "      <td>Alabama</td>\n",
              "      <td>Baldwin</td>\n",
              "      <td>1</td>\n",
              "      <td>3</td>\n",
              "      <td>2021-01-04</td>\n",
              "      <td>47</td>\n",
              "      <td>1</td>\n",
              "      <td>PM2.5</td>\n",
              "      <td>01-003-0010</td>\n",
              "      <td>1</td>\n",
              "      <td>0</td>\n",
              "      <td>1</td>\n",
              "      <td>0</td>\n",
              "      <td>0</td>\n",
              "      <td>0</td>\n",
              "      <td>0</td>\n",
              "    </tr>\n",
              "    <tr>\n",
              "      <th>2</th>\n",
              "      <td>Alabama</td>\n",
              "      <td>Baldwin</td>\n",
              "      <td>1</td>\n",
              "      <td>3</td>\n",
              "      <td>2021-01-07</td>\n",
              "      <td>24</td>\n",
              "      <td>1</td>\n",
              "      <td>PM2.5</td>\n",
              "      <td>01-003-0010</td>\n",
              "      <td>1</td>\n",
              "      <td>0</td>\n",
              "      <td>1</td>\n",
              "      <td>0</td>\n",
              "      <td>0</td>\n",
              "      <td>0</td>\n",
              "      <td>0</td>\n",
              "    </tr>\n",
              "    <tr>\n",
              "      <th>3</th>\n",
              "      <td>Alabama</td>\n",
              "      <td>Baldwin</td>\n",
              "      <td>1</td>\n",
              "      <td>3</td>\n",
              "      <td>2021-01-10</td>\n",
              "      <td>39</td>\n",
              "      <td>1</td>\n",
              "      <td>PM2.5</td>\n",
              "      <td>01-003-0010</td>\n",
              "      <td>1</td>\n",
              "      <td>0</td>\n",
              "      <td>1</td>\n",
              "      <td>0</td>\n",
              "      <td>0</td>\n",
              "      <td>0</td>\n",
              "      <td>0</td>\n",
              "    </tr>\n",
              "    <tr>\n",
              "      <th>4</th>\n",
              "      <td>Alabama</td>\n",
              "      <td>Baldwin</td>\n",
              "      <td>1</td>\n",
              "      <td>3</td>\n",
              "      <td>2021-01-13</td>\n",
              "      <td>46</td>\n",
              "      <td>1</td>\n",
              "      <td>PM2.5</td>\n",
              "      <td>01-003-0010</td>\n",
              "      <td>1</td>\n",
              "      <td>0</td>\n",
              "      <td>1</td>\n",
              "      <td>0</td>\n",
              "      <td>0</td>\n",
              "      <td>0</td>\n",
              "      <td>0</td>\n",
              "    </tr>\n",
              "    <tr>\n",
              "      <th>5</th>\n",
              "      <td>Alabama</td>\n",
              "      <td>Baldwin</td>\n",
              "      <td>1</td>\n",
              "      <td>3</td>\n",
              "      <td>2021-01-16</td>\n",
              "      <td>21</td>\n",
              "      <td>1</td>\n",
              "      <td>PM2.5</td>\n",
              "      <td>01-003-0010</td>\n",
              "      <td>1</td>\n",
              "      <td>0</td>\n",
              "      <td>1</td>\n",
              "      <td>0</td>\n",
              "      <td>0</td>\n",
              "      <td>0</td>\n",
              "      <td>0</td>\n",
              "    </tr>\n",
              "    <tr>\n",
              "      <th>6</th>\n",
              "      <td>Alabama</td>\n",
              "      <td>Baldwin</td>\n",
              "      <td>1</td>\n",
              "      <td>3</td>\n",
              "      <td>2021-01-19</td>\n",
              "      <td>52</td>\n",
              "      <td>2</td>\n",
              "      <td>PM2.5</td>\n",
              "      <td>01-003-0010</td>\n",
              "      <td>1</td>\n",
              "      <td>0</td>\n",
              "      <td>1</td>\n",
              "      <td>0</td>\n",
              "      <td>0</td>\n",
              "      <td>0</td>\n",
              "      <td>0</td>\n",
              "    </tr>\n",
              "    <tr>\n",
              "      <th>7</th>\n",
              "      <td>Alabama</td>\n",
              "      <td>Baldwin</td>\n",
              "      <td>1</td>\n",
              "      <td>3</td>\n",
              "      <td>2021-01-22</td>\n",
              "      <td>11</td>\n",
              "      <td>1</td>\n",
              "      <td>PM2.5</td>\n",
              "      <td>01-003-0010</td>\n",
              "      <td>1</td>\n",
              "      <td>0</td>\n",
              "      <td>1</td>\n",
              "      <td>0</td>\n",
              "      <td>0</td>\n",
              "      <td>0</td>\n",
              "      <td>0</td>\n",
              "    </tr>\n",
              "    <tr>\n",
              "      <th>8</th>\n",
              "      <td>Alabama</td>\n",
              "      <td>Baldwin</td>\n",
              "      <td>1</td>\n",
              "      <td>3</td>\n",
              "      <td>2021-01-25</td>\n",
              "      <td>39</td>\n",
              "      <td>1</td>\n",
              "      <td>PM2.5</td>\n",
              "      <td>01-003-0010</td>\n",
              "      <td>1</td>\n",
              "      <td>0</td>\n",
              "      <td>1</td>\n",
              "      <td>0</td>\n",
              "      <td>0</td>\n",
              "      <td>0</td>\n",
              "      <td>0</td>\n",
              "    </tr>\n",
              "    <tr>\n",
              "      <th>9</th>\n",
              "      <td>Alabama</td>\n",
              "      <td>Baldwin</td>\n",
              "      <td>1</td>\n",
              "      <td>3</td>\n",
              "      <td>2021-01-28</td>\n",
              "      <td>22</td>\n",
              "      <td>1</td>\n",
              "      <td>PM2.5</td>\n",
              "      <td>01-003-0010</td>\n",
              "      <td>1</td>\n",
              "      <td>0</td>\n",
              "      <td>1</td>\n",
              "      <td>0</td>\n",
              "      <td>0</td>\n",
              "      <td>0</td>\n",
              "      <td>0</td>\n",
              "    </tr>\n",
              "  </tbody>\n",
              "</table>\n",
              "</div>\n",
              "      <button class=\"colab-df-convert\" onclick=\"convertToInteractive('df-1a85e5ff-518d-4423-8eab-5dfe0d63dfbc')\"\n",
              "              title=\"Convert this dataframe to an interactive table.\"\n",
              "              style=\"display:none;\">\n",
              "        \n",
              "  <svg xmlns=\"http://www.w3.org/2000/svg\" height=\"24px\"viewBox=\"0 0 24 24\"\n",
              "       width=\"24px\">\n",
              "    <path d=\"M0 0h24v24H0V0z\" fill=\"none\"/>\n",
              "    <path d=\"M18.56 5.44l.94 2.06.94-2.06 2.06-.94-2.06-.94-.94-2.06-.94 2.06-2.06.94zm-11 1L8.5 8.5l.94-2.06 2.06-.94-2.06-.94L8.5 2.5l-.94 2.06-2.06.94zm10 10l.94 2.06.94-2.06 2.06-.94-2.06-.94-.94-2.06-.94 2.06-2.06.94z\"/><path d=\"M17.41 7.96l-1.37-1.37c-.4-.4-.92-.59-1.43-.59-.52 0-1.04.2-1.43.59L10.3 9.45l-7.72 7.72c-.78.78-.78 2.05 0 2.83L4 21.41c.39.39.9.59 1.41.59.51 0 1.02-.2 1.41-.59l7.78-7.78 2.81-2.81c.8-.78.8-2.07 0-2.86zM5.41 20L4 18.59l7.72-7.72 1.47 1.35L5.41 20z\"/>\n",
              "  </svg>\n",
              "      </button>\n",
              "      \n",
              "  <style>\n",
              "    .colab-df-container {\n",
              "      display:flex;\n",
              "      flex-wrap:wrap;\n",
              "      gap: 12px;\n",
              "    }\n",
              "\n",
              "    .colab-df-convert {\n",
              "      background-color: #E8F0FE;\n",
              "      border: none;\n",
              "      border-radius: 50%;\n",
              "      cursor: pointer;\n",
              "      display: none;\n",
              "      fill: #1967D2;\n",
              "      height: 32px;\n",
              "      padding: 0 0 0 0;\n",
              "      width: 32px;\n",
              "    }\n",
              "\n",
              "    .colab-df-convert:hover {\n",
              "      background-color: #E2EBFA;\n",
              "      box-shadow: 0px 1px 2px rgba(60, 64, 67, 0.3), 0px 1px 3px 1px rgba(60, 64, 67, 0.15);\n",
              "      fill: #174EA6;\n",
              "    }\n",
              "\n",
              "    [theme=dark] .colab-df-convert {\n",
              "      background-color: #3B4455;\n",
              "      fill: #D2E3FC;\n",
              "    }\n",
              "\n",
              "    [theme=dark] .colab-df-convert:hover {\n",
              "      background-color: #434B5C;\n",
              "      box-shadow: 0px 1px 3px 1px rgba(0, 0, 0, 0.15);\n",
              "      filter: drop-shadow(0px 1px 2px rgba(0, 0, 0, 0.3));\n",
              "      fill: #FFFFFF;\n",
              "    }\n",
              "  </style>\n",
              "\n",
              "      <script>\n",
              "        const buttonEl =\n",
              "          document.querySelector('#df-1a85e5ff-518d-4423-8eab-5dfe0d63dfbc button.colab-df-convert');\n",
              "        buttonEl.style.display =\n",
              "          google.colab.kernel.accessAllowed ? 'block' : 'none';\n",
              "\n",
              "        async function convertToInteractive(key) {\n",
              "          const element = document.querySelector('#df-1a85e5ff-518d-4423-8eab-5dfe0d63dfbc');\n",
              "          const dataTable =\n",
              "            await google.colab.kernel.invokeFunction('convertToInteractive',\n",
              "                                                     [key], {});\n",
              "          if (!dataTable) return;\n",
              "\n",
              "          const docLinkHtml = 'Like what you see? Visit the ' +\n",
              "            '<a target=\"_blank\" href=https://colab.research.google.com/notebooks/data_table.ipynb>data table notebook</a>'\n",
              "            + ' to learn more about interactive tables.';\n",
              "          element.innerHTML = '';\n",
              "          dataTable['output_type'] = 'display_data';\n",
              "          await google.colab.output.renderOutput(dataTable, element);\n",
              "          const docLink = document.createElement('div');\n",
              "          docLink.innerHTML = docLinkHtml;\n",
              "          element.appendChild(docLink);\n",
              "        }\n",
              "      </script>\n",
              "    </div>\n",
              "  </div>\n",
              "  "
            ]
          },
          "metadata": {},
          "execution_count": 112
        }
      ]
    },
    {
      "cell_type": "markdown",
      "source": [
        "### Convert to INT"
      ],
      "metadata": {
        "id": "-tNJkG9lvifn"
      }
    },
    {
      "cell_type": "code",
      "source": [
        "df_clean['Ozone'] = df_clean['Ozone'].astype('int') \n",
        "df_clean['PM2.5'] = df_clean['PM2.5'].astype('int') \n",
        "df_clean['PM10'] = df_clean['PM10'].astype('int') \n",
        "df_clean['NO2'] = df_clean['NO2'].astype('int') \n",
        "df_clean['CO'] = df_clean['CO'].astype('int') \n",
        "df_clean['SO2'] = df_clean['SO2'].astype('int') "
      ],
      "metadata": {
        "colab": {
          "base_uri": "https://localhost:8080/"
        },
        "id": "1DuykbBXvmQc",
        "outputId": "d420ee5f-e147-4b1e-afba-bc2939f2d1af"
      },
      "execution_count": 113,
      "outputs": [
        {
          "output_type": "stream",
          "name": "stderr",
          "text": [
            "<ipython-input-113-6325576e73ae>:1: SettingWithCopyWarning: \n",
            "A value is trying to be set on a copy of a slice from a DataFrame.\n",
            "Try using .loc[row_indexer,col_indexer] = value instead\n",
            "\n",
            "See the caveats in the documentation: https://pandas.pydata.org/pandas-docs/stable/user_guide/indexing.html#returning-a-view-versus-a-copy\n",
            "  df_clean['Ozone'] = df_clean['Ozone'].astype('int')\n",
            "<ipython-input-113-6325576e73ae>:2: SettingWithCopyWarning: \n",
            "A value is trying to be set on a copy of a slice from a DataFrame.\n",
            "Try using .loc[row_indexer,col_indexer] = value instead\n",
            "\n",
            "See the caveats in the documentation: https://pandas.pydata.org/pandas-docs/stable/user_guide/indexing.html#returning-a-view-versus-a-copy\n",
            "  df_clean['PM2.5'] = df_clean['PM2.5'].astype('int')\n",
            "<ipython-input-113-6325576e73ae>:3: SettingWithCopyWarning: \n",
            "A value is trying to be set on a copy of a slice from a DataFrame.\n",
            "Try using .loc[row_indexer,col_indexer] = value instead\n",
            "\n",
            "See the caveats in the documentation: https://pandas.pydata.org/pandas-docs/stable/user_guide/indexing.html#returning-a-view-versus-a-copy\n",
            "  df_clean['PM10'] = df_clean['PM10'].astype('int')\n",
            "<ipython-input-113-6325576e73ae>:4: SettingWithCopyWarning: \n",
            "A value is trying to be set on a copy of a slice from a DataFrame.\n",
            "Try using .loc[row_indexer,col_indexer] = value instead\n",
            "\n",
            "See the caveats in the documentation: https://pandas.pydata.org/pandas-docs/stable/user_guide/indexing.html#returning-a-view-versus-a-copy\n",
            "  df_clean['NO2'] = df_clean['NO2'].astype('int')\n",
            "<ipython-input-113-6325576e73ae>:5: SettingWithCopyWarning: \n",
            "A value is trying to be set on a copy of a slice from a DataFrame.\n",
            "Try using .loc[row_indexer,col_indexer] = value instead\n",
            "\n",
            "See the caveats in the documentation: https://pandas.pydata.org/pandas-docs/stable/user_guide/indexing.html#returning-a-view-versus-a-copy\n",
            "  df_clean['CO'] = df_clean['CO'].astype('int')\n",
            "<ipython-input-113-6325576e73ae>:6: SettingWithCopyWarning: \n",
            "A value is trying to be set on a copy of a slice from a DataFrame.\n",
            "Try using .loc[row_indexer,col_indexer] = value instead\n",
            "\n",
            "See the caveats in the documentation: https://pandas.pydata.org/pandas-docs/stable/user_guide/indexing.html#returning-a-view-versus-a-copy\n",
            "  df_clean['SO2'] = df_clean['SO2'].astype('int')\n"
          ]
        }
      ]
    },
    {
      "cell_type": "code",
      "source": [
        "df_clean = df_clean.drop(columns=['Defining Parameter'])"
      ],
      "metadata": {
        "id": "Uj3u-Sd0vHeQ"
      },
      "execution_count": 114,
      "outputs": []
    },
    {
      "cell_type": "markdown",
      "metadata": {
        "id": "AuB0G9gJt7gn"
      },
      "source": [
        "# Convert attributes to factors\n",
        "\n",
        "- Category\n",
        "- Defining Parameters"
      ]
    },
    {
      "cell_type": "code",
      "metadata": {
        "id": "inCqTVMDt6ex",
        "colab": {
          "base_uri": "https://localhost:8080/"
        },
        "outputId": "793604f9-4696-4c08-ec19-baddc15ee0ff"
      },
      "source": [
        "#Method #1\n",
        "#df_clean['leave'] = pd.Categorical(df_clean['leave'])\n",
        "\n",
        "#Method #2\n",
        "df_clean['Category'] = df_clean['Category'].astype('category')\n",
        "df_clean['Ozone'] = df_clean['Ozone'].astype('category') \n",
        "df_clean['PM2.5'] = df_clean['PM2.5'].astype('category') \n",
        "df_clean['PM10'] = df_clean['PM10'].astype('category') \n",
        "df_clean['NO2'] = df_clean['NO2'].astype('category') \n",
        "df_clean['CO'] = df_clean['CO'].astype('category') \n",
        "df_clean['SO2'] = df_clean['SO2'].astype('category') \n",
        "\n",
        "df_clean.info()"
      ],
      "execution_count": 115,
      "outputs": [
        {
          "output_type": "stream",
          "name": "stdout",
          "text": [
            "<class 'pandas.core.frame.DataFrame'>\n",
            "Int64Index: 218194 entries, 0 to 218195\n",
            "Data columns (total 15 columns):\n",
            " #   Column                     Non-Null Count   Dtype   \n",
            "---  ------                     --------------   -----   \n",
            " 0   State Name                 218194 non-null  object  \n",
            " 1   county Name                218194 non-null  object  \n",
            " 2   State Code                 218194 non-null  int64   \n",
            " 3   County Code                218194 non-null  int64   \n",
            " 4   Date                       218194 non-null  object  \n",
            " 5   AQI                        218194 non-null  int64   \n",
            " 6   Category                   218194 non-null  category\n",
            " 7   Defining Site              218194 non-null  object  \n",
            " 8   Number of Sites Reporting  218194 non-null  int64   \n",
            " 9   Ozone                      218194 non-null  category\n",
            " 10  PM2.5                      218194 non-null  category\n",
            " 11  PM10                       218194 non-null  category\n",
            " 12  NO2                        218194 non-null  category\n",
            " 13  CO                         218194 non-null  category\n",
            " 14  SO2                        218194 non-null  category\n",
            "dtypes: category(7), int64(4), object(4)\n",
            "memory usage: 24.5+ MB\n"
          ]
        }
      ]
    },
    {
      "cell_type": "markdown",
      "source": [
        "# Include only Salt Lake County"
      ],
      "metadata": {
        "id": "eDiYLTyQyzhP"
      }
    },
    {
      "cell_type": "code",
      "source": [
        "df_clean = df_clean.loc[df_clean['county Name'] == \"Salt Lake\"]\n",
        "df_clean.info()"
      ],
      "metadata": {
        "colab": {
          "base_uri": "https://localhost:8080/"
        },
        "id": "0ny_IUI8y13-",
        "outputId": "424fee37-c807-47b4-926e-31f38e677a3d"
      },
      "execution_count": 116,
      "outputs": [
        {
          "output_type": "stream",
          "name": "stdout",
          "text": [
            "<class 'pandas.core.frame.DataFrame'>\n",
            "Int64Index: 305 entries, 193138 to 193442\n",
            "Data columns (total 15 columns):\n",
            " #   Column                     Non-Null Count  Dtype   \n",
            "---  ------                     --------------  -----   \n",
            " 0   State Name                 305 non-null    object  \n",
            " 1   county Name                305 non-null    object  \n",
            " 2   State Code                 305 non-null    int64   \n",
            " 3   County Code                305 non-null    int64   \n",
            " 4   Date                       305 non-null    object  \n",
            " 5   AQI                        305 non-null    int64   \n",
            " 6   Category                   305 non-null    category\n",
            " 7   Defining Site              305 non-null    object  \n",
            " 8   Number of Sites Reporting  305 non-null    int64   \n",
            " 9   Ozone                      305 non-null    category\n",
            " 10  PM2.5                      305 non-null    category\n",
            " 11  PM10                       305 non-null    category\n",
            " 12  NO2                        305 non-null    category\n",
            " 13  CO                         305 non-null    category\n",
            " 14  SO2                        305 non-null    category\n",
            "dtypes: category(7), int64(4), object(4)\n",
            "memory usage: 24.5+ KB\n"
          ]
        }
      ]
    },
    {
      "cell_type": "markdown",
      "metadata": {
        "id": "uathUi6xfDPf"
      },
      "source": [
        "## Calculate distribution of the outcome  \n"
      ]
    },
    {
      "cell_type": "code",
      "metadata": {
        "id": "bC93rEgNfFNh",
        "colab": {
          "base_uri": "https://localhost:8080/"
        },
        "outputId": "7ca46705-1184-4023-ceb0-7a6f5bb1c251"
      },
      "source": [
        "# Distribution of outcomes \n",
        "\n",
        "df_outcomes = df.loc[df['county Name'] == \"Salt Lake\"]\n",
        "df_outcomes['Category'].value_counts()\n",
        "df_outcomes['Category'].value_counts(normalize=True).mul(100).round(1).astype(str) + '%'\n"
      ],
      "execution_count": 142,
      "outputs": [
        {
          "output_type": "execute_result",
          "data": {
            "text/plain": [
              "Good                              43.6%\n",
              "Moderate                          41.0%\n",
              "Unhealthy for Sensitive Groups    12.5%\n",
              "Unhealthy                          3.0%\n",
              "Name: Category, dtype: object"
            ]
          },
          "metadata": {},
          "execution_count": 142
        }
      ]
    },
    {
      "cell_type": "markdown",
      "metadata": {
        "id": "SoJLJMlceORN"
      },
      "source": [
        "## Fit a basic tree model\n",
        "\n",
        "Use just two variables, 'income' and 'house'. We'll call this the \"money tree.\" \n",
        "\n",
        "What is the accuracy of the money tree? "
      ]
    },
    {
      "cell_type": "code",
      "metadata": {
        "id": "WBH7aRXbOUf4"
      },
      "source": [
        "# split the datafram into independent (x) and dependent (predicted) attributes (y)\n",
        "x = df_clean[['Ozone','PM2.5','PM10','NO2','CO','SO2','Number of Sites Reporting']]\n",
        "y = df_clean['Category']\n",
        "\n",
        "money_tree = DecisionTreeClassifier()\n",
        "\n",
        "# Create Decision Tree Classifer\n",
        "money_tree = money_tree.fit(x,y)\n"
      ],
      "execution_count": 136,
      "outputs": []
    },
    {
      "cell_type": "markdown",
      "source": [
        "## Preview the tree\n"
      ],
      "metadata": {
        "id": "x5n0jUSL8Nde"
      }
    },
    {
      "cell_type": "code",
      "source": [
        "money_tree_text = tree.export_text(money_tree)\n",
        "print(money_tree_text)"
      ],
      "metadata": {
        "id": "lUzUB50D8SHt",
        "colab": {
          "base_uri": "https://localhost:8080/"
        },
        "outputId": "3da8fe58-4ff4-4c08-c229-d0cb9585a53c"
      },
      "execution_count": 137,
      "outputs": [
        {
          "output_type": "stream",
          "name": "stdout",
          "text": [
            "|--- feature_6 <= 7.50\n",
            "|   |--- feature_1 <= 0.50\n",
            "|   |   |--- feature_2 <= 0.50\n",
            "|   |   |   |--- feature_3 <= 0.50\n",
            "|   |   |   |   |--- class: 1\n",
            "|   |   |   |--- feature_3 >  0.50\n",
            "|   |   |   |   |--- feature_6 <= 6.50\n",
            "|   |   |   |   |   |--- class: 1\n",
            "|   |   |   |   |--- feature_6 >  6.50\n",
            "|   |   |   |   |   |--- class: 1\n",
            "|   |   |--- feature_2 >  0.50\n",
            "|   |   |   |--- class: 2\n",
            "|   |--- feature_1 >  0.50\n",
            "|   |   |--- class: 2\n",
            "|--- feature_6 >  7.50\n",
            "|   |--- feature_2 <= 0.50\n",
            "|   |   |--- feature_1 <= 0.50\n",
            "|   |   |   |--- feature_0 <= 0.50\n",
            "|   |   |   |   |--- class: 1\n",
            "|   |   |   |--- feature_0 >  0.50\n",
            "|   |   |   |   |--- class: 2\n",
            "|   |   |--- feature_1 >  0.50\n",
            "|   |   |   |--- class: 2\n",
            "|   |--- feature_2 >  0.50\n",
            "|   |   |--- class: 2\n",
            "\n"
          ]
        }
      ]
    },
    {
      "cell_type": "markdown",
      "source": [
        "## Check Accuracy\n",
        "\n",
        "What is the accuracy of the money_tree? Use these steps to calculate accuracy.\n",
        "\n",
        "Is this over fitted?"
      ],
      "metadata": {
        "id": "sSNfQKZA3jg2"
      }
    },
    {
      "cell_type": "code",
      "metadata": {
        "id": "eVOSIP8SeYg3",
        "colab": {
          "base_uri": "https://localhost:8080/"
        },
        "outputId": "cf82a7e4-d93b-4218-aca8-7e468a5524fb"
      },
      "source": [
        "pred = money_tree.predict(x)\n",
        "\n",
        "#print(pred)\n",
        "\n",
        "print(\"Accuracy:\",metrics.accuracy_score(y, pred))"
      ],
      "execution_count": 138,
      "outputs": [
        {
          "output_type": "stream",
          "name": "stdout",
          "text": [
            "Accuracy: 0.5344262295081967\n"
          ]
        }
      ]
    },
    {
      "cell_type": "markdown",
      "source": [
        "## Prune the tree\n",
        "\n",
        "Limit the number of levels to 2"
      ],
      "metadata": {
        "id": "bLm9U6FV5XB2"
      }
    },
    {
      "cell_type": "code",
      "source": [
        "money_tree2 = DecisionTreeClassifier(criterion=\"entropy\", max_depth=10)\n",
        "\n",
        "# Create Decision Tree Classifer\n",
        "money_tree2 = money_tree2.fit(x,y)\n"
      ],
      "metadata": {
        "id": "eVaCrCeU5kmt"
      },
      "execution_count": 139,
      "outputs": []
    },
    {
      "cell_type": "markdown",
      "source": [
        "## Preview the new tree"
      ],
      "metadata": {
        "id": "kmKO3QVT8apE"
      }
    },
    {
      "cell_type": "code",
      "source": [
        "money_tree2_text = tree.export_text(money_tree2)\n",
        "print(money_tree2_text)"
      ],
      "metadata": {
        "id": "83PSEPJd8e3i",
        "colab": {
          "base_uri": "https://localhost:8080/"
        },
        "outputId": "e05f2040-eb0b-46b8-a1c7-c59ab8eddc83"
      },
      "execution_count": 140,
      "outputs": [
        {
          "output_type": "stream",
          "name": "stdout",
          "text": [
            "|--- feature_6 <= 7.50\n",
            "|   |--- feature_1 <= 0.50\n",
            "|   |   |--- feature_2 <= 0.50\n",
            "|   |   |   |--- feature_3 <= 0.50\n",
            "|   |   |   |   |--- class: 1\n",
            "|   |   |   |--- feature_3 >  0.50\n",
            "|   |   |   |   |--- feature_6 <= 6.50\n",
            "|   |   |   |   |   |--- class: 1\n",
            "|   |   |   |   |--- feature_6 >  6.50\n",
            "|   |   |   |   |   |--- class: 1\n",
            "|   |   |--- feature_2 >  0.50\n",
            "|   |   |   |--- class: 2\n",
            "|   |--- feature_1 >  0.50\n",
            "|   |   |--- class: 2\n",
            "|--- feature_6 >  7.50\n",
            "|   |--- feature_2 <= 0.50\n",
            "|   |   |--- feature_1 <= 0.50\n",
            "|   |   |   |--- feature_3 <= 0.50\n",
            "|   |   |   |   |--- class: 2\n",
            "|   |   |   |--- feature_3 >  0.50\n",
            "|   |   |   |   |--- class: 1\n",
            "|   |   |--- feature_1 >  0.50\n",
            "|   |   |   |--- class: 2\n",
            "|   |--- feature_2 >  0.50\n",
            "|   |   |--- class: 2\n",
            "\n"
          ]
        }
      ]
    },
    {
      "cell_type": "markdown",
      "source": [
        "## Re-Check Accuracy\n",
        "\n",
        "Is this accuracy better than making a random guess?  (check the distribution above)"
      ],
      "metadata": {
        "id": "KqK2LiaU7K1e"
      }
    },
    {
      "cell_type": "code",
      "source": [
        "pred = money_tree2.predict(x)\n",
        "\n",
        "print(\"Accuracy:\",metrics.accuracy_score(y, pred))"
      ],
      "metadata": {
        "id": "C2WGouWs6L5d",
        "colab": {
          "base_uri": "https://localhost:8080/"
        },
        "outputId": "79f1a3b0-a6cb-49ca-ef64-fe13d5257882"
      },
      "execution_count": 141,
      "outputs": [
        {
          "output_type": "stream",
          "name": "stdout",
          "text": [
            "Accuracy: 0.5344262295081967\n"
          ]
        }
      ]
    },
    {
      "cell_type": "markdown",
      "source": [
        "## Visualize the model"
      ],
      "metadata": {
        "id": "tYqqwO1l3e5l"
      }
    },
    {
      "cell_type": "code",
      "source": [
        "from six import StringIO\n",
        "from IPython.display import Image  \n",
        "import pydotplus\n",
        "\n",
        "dot_data = StringIO()\n",
        "export_graphviz(money_tree, out_file=dot_data, \n",
        "                   feature_names=x.columns,class_names=['Good','Moderate','Unhealthy for Sensitive Groups', 'Unhealthy', 'Very Unhealthy', 'Hazardous'], \n",
        "                   filled=True,rounded=True, precision =2)\n",
        "\n",
        "graph=pydotplus.graph_from_dot_data(dot_data.getvalue())\n",
        "Image(graph.create_png())"
      ],
      "metadata": {
        "id": "yj--WKic3c_x",
        "colab": {
          "base_uri": "https://localhost:8080/",
          "height": 912
        },
        "outputId": "f5507c6f-830b-4d15-c4bc-11bedcf98a7a"
      },
      "execution_count": 144,
      "outputs": [
        {
          "output_type": "execute_result",
          "data": {
            "image/png": "[encoded data removed]",
            "text/plain": [
              "<IPython.core.display.Image object>"
            ]
          },
          "metadata": {},
          "execution_count": 144
        }
      ]
    }
  ]
}